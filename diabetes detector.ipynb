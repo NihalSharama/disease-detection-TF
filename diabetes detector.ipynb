{
 "cells": [
  {
   "cell_type": "code",
   "execution_count": null,
   "id": "1d04612b",
   "metadata": {},
   "outputs": [],
   "source": [
    "import pandas as pd\n",
    "import numpy as np"
   ]
  },
  {
   "cell_type": "code",
   "execution_count": null,
   "id": "17556eec",
   "metadata": {},
   "outputs": [],
   "source": [
    "import time\n",
    "import seaborn as sns\n",
    "import matplotlib.pyplot as plt\n",
    "%matplotlib inline"
   ]
  },
  {
   "cell_type": "code",
   "execution_count": null,
   "id": "cccc2a3a",
   "metadata": {},
   "outputs": [],
   "source": [
    "from sklearn.metrics import confusion_matrix , classification_report , accuracy_score\n",
    "from sklearn.model_selection import train_test_split , GridSearchCV\n",
    "from sklearn.impute import SimpleImputer\n",
    "from sklearn.preprocessing import MinMaxScaler"
   ]
  },
  {
   "cell_type": "code",
   "execution_count": null,
   "id": "e6b672cb",
   "metadata": {},
   "outputs": [],
   "source": [
    "from tensorflow.keras.models import Sequential, load_model\n",
    "from tensorflow.keras.layers import Dropout, Dense\n",
    "from tensorflow.keras.callbacks import EarlyStopping, TensorBoard\n",
    "from datetime import datetime"
   ]
  },
  {
   "cell_type": "code",
   "execution_count": null,
   "id": "b30d9cde",
   "metadata": {},
   "outputs": [],
   "source": [
    "from sklearn.ensemble import RandomForestClassifier"
   ]
  },
  {
   "cell_type": "code",
   "execution_count": null,
   "id": "288114e8",
   "metadata": {},
   "outputs": [],
   "source": [
    "%matplotlib inline"
   ]
  },
  {
   "cell_type": "code",
   "execution_count": null,
   "id": "8a621852",
   "metadata": {},
   "outputs": [],
   "source": [
    "df = pd.read_csv('diabetes.csv')"
   ]
  },
  {
   "cell_type": "code",
   "execution_count": null,
   "id": "8c3a99fa",
   "metadata": {},
   "outputs": [],
   "source": [
    "df.head()"
   ]
  },
  {
   "cell_type": "raw",
   "id": "df45f9a6",
   "metadata": {},
   "source": [
    "df.info()"
   ]
  },
  {
   "cell_type": "code",
   "execution_count": null,
   "id": "8baac062",
   "metadata": {},
   "outputs": [],
   "source": [
    "# checking if there is any null data point\n",
    "df.isnull().values.any()"
   ]
  },
  {
   "cell_type": "code",
   "execution_count": null,
   "id": "3a205127",
   "metadata": {},
   "outputs": [],
   "source": [
    "sns.pairplot(df , hue='Outcome')"
   ]
  },
  {
   "cell_type": "markdown",
   "id": "fb50ce01",
   "metadata": {},
   "source": [
    "*finding Correlation between target field and input fields*"
   ]
  },
  {
   "cell_type": "code",
   "execution_count": null,
   "id": "9438a307",
   "metadata": {},
   "outputs": [],
   "source": [
    "df.corr()['Outcome'][:-1].sort_values().plot(kind='bar')\n",
    "\n",
    "# corr = df.corr()\n",
    "# plt.figure(figsize=(20,15))\n",
    "# sns.heatmap(corr, annot=True , cmap='viridis')"
   ]
  },
  {
   "cell_type": "code",
   "execution_count": null,
   "id": "28331abe",
   "metadata": {},
   "outputs": [],
   "source": [
    "diabetes_true_count = len(df.loc[df['Outcome'] == 1])\n",
    "diabetes_false_count = len(df.loc[df['Outcome'] == 0])"
   ]
  },
  {
   "cell_type": "code",
   "execution_count": null,
   "id": "dc161c3b",
   "metadata": {},
   "outputs": [],
   "source": [
    "print(f'Number of Diabetic peoples: {diabetes_true_count}')\n",
    "print(f'Number of Non Diabetic peoples: {diabetes_false_count}')"
   ]
  },
  {
   "cell_type": "code",
   "execution_count": null,
   "id": "1805ab2f",
   "metadata": {},
   "outputs": [],
   "source": [
    "# sns.countplot(x=df['Outcome'])"
   ]
  },
  {
   "cell_type": "markdown",
   "id": "cf7529c4",
   "metadata": {},
   "source": [
    "# Spliting the data into traning and testing data"
   ]
  },
  {
   "cell_type": "code",
   "execution_count": null,
   "id": "55542172",
   "metadata": {},
   "outputs": [],
   "source": [
    "x = df.drop('Outcome' , axis=1)\n",
    "y = df['Outcome']\n",
    "\n",
    "x_train , x_test, y_train , y_test = train_test_split(x , y , test_size=0.3 , random_state=101)"
   ]
  },
  {
   "cell_type": "markdown",
   "id": "172f3ddc",
   "metadata": {},
   "source": [
    "#  checking for any meaning less values for ex. age = 0     /(O_X)\\ "
   ]
  },
  {
   "cell_type": "code",
   "execution_count": null,
   "id": "560499bd",
   "metadata": {},
   "outputs": [],
   "source": [
    "print(f'Number of rows: {len(df)}')\n",
    "print(f\"Number of missing Glucose values: {len(df.loc[df['Glucose'] == 0])}\")\n",
    "print(f\"Number of missing BloodPressure values: {len(df.loc[df['BloodPressure'] == 0])}\")\n",
    "print(f\"Number of missing Insulin values: {len(df.loc[df['Insulin'] == 0])}\")\n",
    "print(f\"Number of missing BMI values: {len(df.loc[df['BMI'] == 0])}\")\n",
    "print(f\"Number of missing SkinThickness values: {len(df.loc[df['SkinThickness'] == 0])}\")\n",
    "print(f\"Number of missing Age values: {len(df.loc[df['Age'] == 0])}\")\n",
    "print(f\"Number of missing DiabetesPedigreeFunction values: {len(df.loc[df['DiabetesPedigreeFunction'] == 0])}\")"
   ]
  },
  {
   "cell_type": "markdown",
   "id": "e24aeb63",
   "metadata": {},
   "source": [
    "# FIlling those values with average values "
   ]
  },
  {
   "cell_type": "code",
   "execution_count": null,
   "id": "0f3c44f5",
   "metadata": {},
   "outputs": [],
   "source": [
    "imputer = SimpleImputer(missing_values=0 , strategy='mean')\n",
    "\n",
    "x_train_preg = []\n",
    "x_test_preg = []\n",
    "for i in x_train['Pregnancies']:\n",
    "    x_train_preg.append(i)\n",
    "for i in x_test['Pregnancies']:\n",
    "    x_test_preg.append(i)\n",
    "\n",
    "x_train = pd.DataFrame(imputer.fit_transform(x_train) , columns=x_train.columns)\n",
    "x_train['Pregnancies'] = x_train_preg\n",
    "\n",
    "x_test = pd.DataFrame(imputer.fit_transform(x_test) , columns=x_test.columns)\n",
    "x_test['Pregnancies'] = x_test_preg"
   ]
  },
  {
   "cell_type": "markdown",
   "id": "f3f9d55b",
   "metadata": {},
   "source": [
    "# scalling the data"
   ]
  },
  {
   "cell_type": "code",
   "execution_count": null,
   "id": "4e97818f",
   "metadata": {},
   "outputs": [],
   "source": [
    "scaler = MinMaxScaler()\n",
    "\n",
    "x_train = scaler.fit_transform(x_train)\n",
    "x_test = scaler.transform(x_test)"
   ]
  },
  {
   "cell_type": "code",
   "execution_count": null,
   "id": "576013a6",
   "metadata": {},
   "outputs": [],
   "source": [
    "x_test"
   ]
  },
  {
   "cell_type": "markdown",
   "id": "b6f071d6",
   "metadata": {},
   "source": [
    "# Creating an Artificial Neural Network ;)"
   ]
  },
  {
   "cell_type": "markdown",
   "id": "34829e35",
   "metadata": {},
   "source": [
    "*random-forest model*"
   ]
  },
  {
   "cell_type": "code",
   "execution_count": null,
   "id": "482fedd7",
   "metadata": {},
   "outputs": [],
   "source": [
    "# model = RandomForestClassifier(n_estimators=50 , random_state=1)\n",
    "# model.fit(x_train , y_train)"
   ]
  },
  {
   "cell_type": "code",
   "execution_count": null,
   "id": "b8691041",
   "metadata": {},
   "outputs": [],
   "source": [
    "model = load_model('model.h5') "
   ]
  },
  {
   "cell_type": "markdown",
   "id": "544faec7",
   "metadata": {},
   "source": [
    "*artificial neural network (ANN model)*"
   ]
  },
  {
   "cell_type": "code",
   "execution_count": null,
   "id": "643e8533",
   "metadata": {
    "scrolled": true
   },
   "outputs": [],
   "source": [
    "# model = Sequential()\n",
    "\n",
    "# model.add(Dense(8, activation='relu'))\n",
    "# model.add(Dropout(0.2))\n",
    "# model.add(Dense(10, activation='relu'))\n",
    "# model.add(Dropout(0.2))\n",
    "# model.add(Dense(5, activation='relu'))\n",
    "# model.add(Dropout(0.2))\n",
    "# model.add(Dense(1, activation='sigmoid'))\n",
    "\n",
    "# model.compile(loss='binary_crossentropy', optimizer='Adam')\n",
    "\n",
    "# early_stop = EarlyStopping(monitor='val_loss', mode='min', verbose=1, patience=25)\n",
    "\n",
    "# timestamp = datetime.now().strftime(\"%Y-%m-%d--%H%M\")\n",
    "# log_directory = 'logs/fit' + '/' + timestamp \n",
    "\n",
    "# board = TensorBoard(log_directory,\n",
    "#                     histogram_freq=1,\n",
    "#                     write_graph=True,\n",
    "#                     write_images=True,\n",
    "#                     update_freq='epoch',\n",
    "#                     profile_batch=2,\n",
    "#                     embeddings_freq=1)"
   ]
  },
  {
   "cell_type": "markdown",
   "id": "69ba2644",
   "metadata": {},
   "source": [
    "*training the model*"
   ]
  },
  {
   "cell_type": "code",
   "execution_count": null,
   "id": "d89635fa",
   "metadata": {},
   "outputs": [],
   "source": [
    "# model.fit(x=x_train, y=y_train, epochs=600, validation_data=(x_test,y_test), callbacks=[early_stop, board])"
   ]
  },
  {
   "cell_type": "code",
   "execution_count": null,
   "id": "dd23935d",
   "metadata": {
    "scrolled": true,
    "slideshow": {
     "slide_type": "-"
    }
   },
   "outputs": [],
   "source": [
    "# model_loss = pd.DataFrame(model.history.history)\n",
    "# model_loss.plot(figsize=(10,8))"
   ]
  },
  {
   "cell_type": "markdown",
   "id": "7bdf4c78",
   "metadata": {},
   "source": [
    "*testing the model*"
   ]
  },
  {
   "cell_type": "code",
   "execution_count": null,
   "id": "34e66b79",
   "metadata": {},
   "outputs": [],
   "source": [
    "# testing the model\n",
    "predictions = np.round(model.predict(x_test))"
   ]
  },
  {
   "cell_type": "code",
   "execution_count": null,
   "id": "5ed0f995",
   "metadata": {},
   "outputs": [],
   "source": [
    "print(f'Confusion matrix of predictions:- \\n{confusion_matrix(y_test , predictions)}', end='\\n\\n')\n",
    "print(f'Classification report of predictions:- \\n{classification_report(y_test , predictions)}', end='\\n')"
   ]
  },
  {
   "cell_type": "markdown",
   "id": "65405464",
   "metadata": {},
   "source": [
    "*saving trained model in model.h5 file*"
   ]
  },
  {
   "cell_type": "code",
   "execution_count": null,
   "id": "6a8f53cd",
   "metadata": {},
   "outputs": [],
   "source": [
    "model.save('model.h5')"
   ]
  },
  {
   "cell_type": "code",
   "execution_count": null,
   "id": "e5b2f41c",
   "metadata": {},
   "outputs": [],
   "source": [
    "def predictor(Pregnancies , Glucose , BloodPressure , SkinThickness , Insulin , BMI,  DiabetesPedigreeFunction , Age):\n",
    "    x_data = [[Pregnancies , Glucose , BloodPressure , SkinThickness , Insulin , BMI , DiabetesPedigreeFunction , Age]]\n",
    "    x_data = scaler.transform(x_data)\n",
    "    \n",
    "    prediction_percent = model.predict(x_data)\n",
    "    prediction_overall = np.round(prediction_percent)\n",
    "    \n",
    "    print(f'\\n The chances of you being diabetic is: {np.round(prediction_percent[0][0], decimals=2)}%')\n",
    "    if prediction_overall[0] == 0:\n",
    "        return \"\\n Congrats.... you are not diabetic but you sould have a consultaion with doctor\"\n",
    "    \n",
    "    elif prediction_overall[0] == 1:\n",
    "        return \"\\n It seems you are diabetic and you sould have a consultaion with doctor\""
   ]
  },
  {
   "cell_type": "markdown",
   "id": "7aba9db2",
   "metadata": {},
   "source": [
    "## mean value of every cloumn"
   ]
  },
  {
   "cell_type": "code",
   "execution_count": null,
   "id": "38284613",
   "metadata": {},
   "outputs": [],
   "source": [
    "print(f\"Mean of Glucose: {np.mean(df['Glucose'])}\")\n",
    "print(f\"Mean of BloodPressure: {np.mean(df['BloodPressure'])}\")\n",
    "print(f\"Mean of Insulin: {np.mean(df['Insulin'])}\")\n",
    "print(f\"Mean of BMI: {np.mean(df['BMI'])}\")\n",
    "print(f\"Mean of Skin-Thickness: {np.mean(df['SkinThickness'])}\")\n",
    "print(f\"Mean of Diabetes-Pedigree-Function: {np.mean(df['DiabetesPedigreeFunction'])}\")"
   ]
  },
  {
   "cell_type": "code",
   "execution_count": null,
   "id": "21d0d4b6",
   "metadata": {},
   "outputs": [],
   "source": [
    "# inputs from user\n",
    "age = int(input('Age: '))\n",
    "glucose = int(input('glucose concentration: '))\n",
    "bp = int(input('Blood pressure: '))\n",
    "number_of_pregnancies = int(input('Number of pregnancies: '))\n",
    "insulin = float(input('Insulin : '))\n",
    "skin_thickness = int(input('Skin Thickness : '))\n",
    "bmi = float(input('Body mass index : '))\n",
    "DPF = float(input('Diabetes Pedigree Fucntion : '))\n",
    "\n",
    "start_time = time.time()\n",
    "\n",
    "# sending user data to predictor function\n",
    "print(predictor(number_of_pregnancies ,glucose , bp , skin_thickness , insulin , bmi , DPF , age))\n",
    "\n",
    "print(f\"\\n Total time taken in prediction:  {time.time()-start_time}\")"
   ]
  },
  {
   "cell_type": "code",
   "execution_count": null,
   "id": "e3de1c3e",
   "metadata": {},
   "outputs": [],
   "source": []
  }
 ],
 "metadata": {
  "kernelspec": {
   "display_name": "Python 3 (ipykernel)",
   "language": "python",
   "name": "python3"
  },
  "language_info": {
   "codemirror_mode": {
    "name": "ipython",
    "version": 3
   },
   "file_extension": ".py",
   "mimetype": "text/x-python",
   "name": "python",
   "nbconvert_exporter": "python",
   "pygments_lexer": "ipython3",
   "version": "3.8.10"
  }
 },
 "nbformat": 4,
 "nbformat_minor": 5
}
