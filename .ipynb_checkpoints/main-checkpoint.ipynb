{
 "cells": [
  {
   "cell_type": "code",
   "execution_count": 8,
   "id": "72de5101",
   "metadata": {},
   "outputs": [],
   "source": [
    "import warnings\n",
    "warnings.filterwarnings('ignore')"
   ]
  },
  {
   "cell_type": "code",
   "execution_count": 2,
   "id": "2ba71870",
   "metadata": {},
   "outputs": [
    {
     "name": "stderr",
     "output_type": "stream",
     "text": [
      "2022-02-14 11:46:23.177181: W tensorflow/stream_executor/platform/default/dso_loader.cc:64] Could not load dynamic library 'libcudart.so.11.0'; dlerror: libcudart.so.11.0: cannot open shared object file: No such file or directory\n",
      "2022-02-14 11:46:23.177209: I tensorflow/stream_executor/cuda/cudart_stub.cc:29] Ignore above cudart dlerror if you do not have a GPU set up on your machine.\n"
     ]
    }
   ],
   "source": [
    "import numpy as np\n",
    "from tensorflow.keras.preprocessing import image\n",
    "from tensorflow.keras.models import load_model\n",
    "from tensorflow.keras.applications.vgg16 import preprocess_input"
   ]
  },
  {
   "cell_type": "code",
   "execution_count": 3,
   "id": "f56a4ca3",
   "metadata": {},
   "outputs": [],
   "source": [
    "def pneumonia_prediction():\n",
    "    image_name = input('enter the name of image in validation data folder: ')\n",
    "    path=f'datasets/validation_data/{image_name}'\n",
    "    \n",
    "    test_image = image.load_img(path , target_size=(224, 224))\n",
    "    test_image = image.img_to_array(test_image)\n",
    "    test_image = np.expand_dims(test_image, axis=0)\n",
    "    test_image = preprocess_input(test_image)\n",
    "    \n",
    "    model = load_model('models/pneumonia_model.h5')\n",
    "    \n",
    "    prediction = model.predict(test_image)\n",
    "    if prediction[0][0] == 1 :\n",
    "        return '\\n Congrats... you seems to be normal.'\n",
    "    elif prediction[0][0] == 0:\n",
    "        return '\\n It seems you have pneumonia. you should have consultaion with doctor'\n",
    "    else: \n",
    "        return 'some input field error'"
   ]
  },
  {
   "cell_type": "code",
   "execution_count": 4,
   "id": "359011ca",
   "metadata": {},
   "outputs": [],
   "source": [
    "def diabetes_predictor():\n",
    "    # inputs from user\n",
    "    age = int(input('Age: '))\n",
    "    glucose = int(input('glucose concentration: '))\n",
    "    bp = int(input('Blood pressure: '))\n",
    "    number_of_pregnancies = int(input('Number of pregnancies: '))\n",
    "    insulin = float(input('Insulin : '))\n",
    "    skin_thickness = int(input('Skin Thickness : '))\n",
    "    bmi = float(input('Body mass index : '))\n",
    "    DPF = float(input('Diabetes Pedigree Fucntion : '))\n",
    "    \n",
    "    x_data = [[number_of_pregnancies, glucose, bp, skin_thickness, insulin, bmi, DPF , age]]\n",
    "    \n",
    "    model = load_model('models/diabetes_model.h5')\n",
    "    prediction_percent = model.predict(x_data)\n",
    "    prediction_overall = np.round(prediction_percent)\n",
    "    \n",
    "    print(f'\\n The chances of you being diabetic is: {np.round(prediction_percent[0][0], decimals=2)}%')\n",
    "    \n",
    "    if prediction_overall[0] == 0:\n",
    "        return \"\\n Congrats.... you are not diabetic but you sould have a consultaion with doctor\"\n",
    "    \n",
    "    elif prediction_overall[0] == 1:\n",
    "        return \"\\n It seems you are diabetic and you sould have a consultaion with doctor\""
   ]
  },
  {
   "cell_type": "code",
   "execution_count": 5,
   "id": "0787684f",
   "metadata": {},
   "outputs": [],
   "source": [
    "def main():\n",
    "    diabetes_or_pneumonia = int(input('Press 1 to predict diabetes or Press 2 to predict pneumonia: '))\n",
    "    \n",
    "    if(diabetes_or_pneumonia == 1):\n",
    "        prediction = diabetes_predictor()\n",
    "        print(prediction)\n",
    "    elif(diabetes_or_pneumonia == 2):\n",
    "        prediction = pneumonia_prediction()\n",
    "        print(prediction)"
   ]
  },
  {
   "cell_type": "code",
   "execution_count": 9,
   "id": "d2305073",
   "metadata": {},
   "outputs": [
    {
     "name": "stdout",
     "output_type": "stream",
     "text": [
      "Press 1 to predict diabetes or Press 2 to predict pneumonia 2\n",
      "enter the name of image in validation data folderpneumonia.jpeg\n",
      "It seems you have pneumonia. you should have consultaion with doctor\n"
     ]
    }
   ],
   "source": [
    "main()"
   ]
  },
  {
   "cell_type": "code",
   "execution_count": null,
   "id": "4c3d9950",
   "metadata": {},
   "outputs": [],
   "source": []
  }
 ],
 "metadata": {
  "kernelspec": {
   "display_name": "Python 3 (ipykernel)",
   "language": "python",
   "name": "python3"
  },
  "language_info": {
   "codemirror_mode": {
    "name": "ipython",
    "version": 3
   },
   "file_extension": ".py",
   "mimetype": "text/x-python",
   "name": "python",
   "nbconvert_exporter": "python",
   "pygments_lexer": "ipython3",
   "version": "3.8.10"
  }
 },
 "nbformat": 4,
 "nbformat_minor": 5
}
